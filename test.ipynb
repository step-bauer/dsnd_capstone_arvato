{
 "cells": [
  {
   "cell_type": "code",
   "execution_count": null,
   "source": [
    "import progressbar"
   ],
   "outputs": [],
   "metadata": {}
  },
  {
   "cell_type": "code",
   "execution_count": null,
   "source": [],
   "outputs": [],
   "metadata": {}
  }
 ],
 "metadata": {
  "orig_nbformat": 4,
  "language_info": {
   "name": "python",
   "version": "3.9.5"
  },
  "kernelspec": {
   "name": "python3",
   "display_name": "Python 3.9.5 64-bit ('py39_dsnd': conda)"
  },
  "interpreter": {
   "hash": "bd02d0b26d5bc5489eb8384059ce880300c63d4adcdc7615123473936c1c45dd"
  }
 },
 "nbformat": 4,
 "nbformat_minor": 2
}